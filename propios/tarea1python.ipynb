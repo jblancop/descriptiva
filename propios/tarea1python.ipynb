{
 "cells": [
  {
   "cell_type": "markdown",
   "metadata": {},
   "source": [
    "<h1>Tarea 1: Introducción a Python</h>"
   ]
  },
  {
   "cell_type": "markdown",
   "metadata": {},
   "source": [
    "<h3>1. Escribe una secuencia de instrucciones que permitan leer un número real por pantalla y que muestre si el número es positivo o no.</h3>"
   ]
  },
  {
   "cell_type": "code",
   "execution_count": null,
   "metadata": {},
   "outputs": [],
   "source": [
    "def esPositivo():\n",
    "    numero = int(input(\"Elige un número: \"))\n",
    "    if numero != 0:\n",
    "        if numero > 0:\n",
    "            print(\"El número es positivo\")\n",
    "        else:\n",
    "            print(\"El número es negativo\")\n",
    "    else:\n",
    "        print(\"El número es cero\")"
   ]
  },
  {
   "cell_type": "code",
   "execution_count": null,
   "metadata": {},
   "outputs": [],
   "source": [
    "esPositivo()"
   ]
  },
  {
   "cell_type": "markdown",
   "metadata": {},
   "source": [
    "<h3>2. Escribe una secuencia de instrucciones que permitan leer un número real por pantalla y que muestre si el número está en el rango entre -5 y 5</h3>"
   ]
  },
  {
   "cell_type": "code",
   "execution_count": null,
   "metadata": {},
   "outputs": [],
   "source": [
    "def enRango():\n",
    "    numero = int(input(\"Elige un número entero: \"))\n",
    "    if numero not in range(-5, 6):\n",
    "        print(\"No está en el rango [-5, 5]\")\n",
    "    else:\n",
    "        print(\"Está en el rango [-5, 5]\")"
   ]
  },
  {
   "cell_type": "code",
   "execution_count": null,
   "metadata": {},
   "outputs": [],
   "source": [
    "enRango()"
   ]
  },
  {
   "cell_type": "markdown",
   "metadata": {},
   "source": [
    "<h3>3. Escribe una secuencia de instrucciones que permitan leer las coordenadas de un punto (x, y) e indique en cuál de los cuatro cuadrantes se encuentra dicho punto.</h3>"
   ]
  },
  {
   "cell_type": "code",
   "execution_count": null,
   "metadata": {},
   "outputs": [],
   "source": [
    "def cuadrante():\n",
    "    x = int(input(\"Introduce la coordenada X de un punto: \"))\n",
    "    y = int(input(\"Y ahora la coordenada Y: \"))\n",
    "    if x > 0:\n",
    "        if y > 0:\n",
    "            print(\"El punto está en el 1er cuadrante\")\n",
    "        elif y < 0:\n",
    "            print(\"El punto está en el 3er cuadrante\")\n",
    "        else:\n",
    "            print(\"El punto está en la semirrecta positiva de abscisas\")\n",
    "    elif x < 0:\n",
    "        if y > 0:\n",
    "            print(\"El punto está en el 2o cuadrante\")\n",
    "        elif y < 0:\n",
    "            print(\"El punto está en el 4o cuadrante\")\n",
    "        else:\n",
    "            print(\"El punto está en la semirrecta negativa de abscisas\")\n",
    "    else:\n",
    "        if y > 0:\n",
    "            print(\"El punto está en la semirrecta positiva de ordenadas\")\n",
    "        elif y < 0:\n",
    "            print(\"El punto está en la semirrecta negativa de ordenadas\")\n",
    "        else:\n",
    "            print(\"El punto está en el origen de coordenadas\")\n",
    "        "
   ]
  },
  {
   "cell_type": "code",
   "execution_count": null,
   "metadata": {},
   "outputs": [],
   "source": [
    "cuadrante()"
   ]
  },
  {
   "cell_type": "markdown",
   "metadata": {},
   "source": [
    "<h3>4. Escribe una secuencia de instrucciones que permitan leer dos números enteros y muestre el cociente de la división entera y el resto.</h3>"
   ]
  },
  {
   "cell_type": "code",
   "execution_count": 9,
   "metadata": {},
   "outputs": [],
   "source": [
    "def operaciones():\n",
    "    dividendo = int(input(\"Introduce el dividendo: \"))\n",
    "    divisor = int(input(\"Introduce el divisor: \"))\n",
    "    cociente = dividendo//divisor\n",
    "    resto = dividendo%divisor\n",
    "    print(\"El cociente: \"+str(cociente), \"| El resto: \"+str(resto))"
   ]
  },
  {
   "cell_type": "code",
   "execution_count": 11,
   "metadata": {},
   "outputs": [
    {
     "name": "stdout",
     "output_type": "stream",
     "text": [
      "Introduce el dividendo: 7\n",
      "Introduce el divisor: 3\n",
      "El cociente: 2 | El resto: 1\n"
     ]
    }
   ],
   "source": [
    "operaciones()"
   ]
  },
  {
   "cell_type": "markdown",
   "metadata": {},
   "source": [
    "<h3>5. Escribe una secuencia de instrucciones que permitan leer un número entero es cuadrado perfecto o no (piensa la mejor forma de hacerlo con lo que has aprendido hasta ahora)</h3>"
   ]
  },
  {
   "cell_type": "markdown",
   "metadata": {},
   "source": [
    "<h3>6. Escribe una expresión que permita determinar si un número entero positivo puede corresponder a un año bisiesto o no. Se consideran años bisiestos aquellos cuyo número es divisible por cuatro excepto los años que son múltiplos de 100, a no ser que lo sean de 400 (por ejemplo el año 2000 fue bisiesto pero el 2100 no lo será).</h3>"
   ]
  },
  {
   "cell_type": "markdown",
   "metadata": {},
   "source": [
    "<h3>7. Busca la imagen de un tablero de ajedrez en Google y fíjate en la nomenclatura de las casillas. Escribe una expresión lea una letra y un número de teclado correspondiente a una casilla de un tablero de ajedrez y nos indique si esta casilla es negra o blanca.</h3>"
   ]
  }
 ],
 "metadata": {
  "kernelspec": {
   "display_name": "Python 3",
   "language": "python",
   "name": "python3"
  },
  "language_info": {
   "codemirror_mode": {
    "name": "ipython",
    "version": 3
   },
   "file_extension": ".py",
   "mimetype": "text/x-python",
   "name": "python",
   "nbconvert_exporter": "python",
   "pygments_lexer": "ipython3",
   "version": "3.8.5"
  }
 },
 "nbformat": 4,
 "nbformat_minor": 4
}
